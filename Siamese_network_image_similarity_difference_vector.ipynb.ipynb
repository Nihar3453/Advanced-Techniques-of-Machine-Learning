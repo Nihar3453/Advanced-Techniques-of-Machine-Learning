{
 "cells": [
  {
   "cell_type": "markdown",
   "metadata": {},
   "source": [
    "Aim:\n",
    "To implement a Siamese neural network comparing pairs of MNIST images using their learned difference vectors, enabling image similarity detection and pairwise comparison."
   ]
  },
  {
   "cell_type": "code",
   "execution_count": null,
   "metadata": {
    "trusted": true
   },
   "outputs": [],
   "source": [
    "import tensorflow as tf\n",
    "from tensorflow.keras.layers import *\n",
    "from tensorflow.keras.models import Sequential, Model "
   ]
  },
  {
   "cell_type": "code",
   "execution_count": 1,
   "metadata": {
    "_cell_guid": "b1076dfc-b9ad-4769-8c92-a6c4dae69d19",
    "_uuid": "8f2839f25d086af736a60e9eeb907d3b93b6e0e5",
    "execution": {
     "iopub.execute_input": "2025-01-18T09:20:44.669456Z",
     "iopub.status.busy": "2025-01-18T09:20:44.669141Z",
     "iopub.status.idle": "2025-01-18T09:20:57.141646Z",
     "shell.execute_reply": "2025-01-18T09:20:57.140782Z",
     "shell.execute_reply.started": "2025-01-18T09:20:44.669433Z"
    },
    "trusted": true
   },
   "outputs": [
    {
     "name": "stdout",
     "output_type": "stream",
     "text": [
      "Downloading data from https://storage.googleapis.com/tensorflow/tf-keras-datasets/mnist.npz\n",
      "\u001b[1m11490434/11490434\u001b[0m \u001b[32m━━━━━━━━━━━━━━━━━━━━\u001b[0m\u001b[37m\u001b[0m \u001b[1m0s\u001b[0m 0us/step\n"
     ]
    },
    {
     "data": {
      "text/plain": [
       "((60000, 28, 28), (60000,), (10000, 28, 28), (10000,))"
      ]
     },
     "execution_count": 1,
     "metadata": {},
     "output_type": "execute_result"
    }
   ],
   "source": [
    "mnist = tf.keras.datasets.mnist\n",
    "(X_train, y_train), (X_test, y_test) = mnist.load_data()\n",
    "X_train.shape, y_train.shape, X_test.shape, y_test.shape "
   ]
  },
  {
   "cell_type": "code",
   "execution_count": 19,
   "metadata": {
    "execution": {
     "iopub.execute_input": "2025-01-18T09:28:40.512821Z",
     "iopub.status.busy": "2025-01-18T09:28:40.512500Z",
     "iopub.status.idle": "2025-01-18T09:28:40.517555Z",
     "shell.execute_reply": "2025-01-18T09:28:40.516835Z",
     "shell.execute_reply.started": "2025-01-18T09:28:40.512796Z"
    },
    "trusted": true
   },
   "outputs": [],
   "source": [
    "img_A_inp = Input((28, 28), name='img_A_inp')\n",
    "img_B_inp = Input((28, 28), name='img_B_inp') \n"
   ]
  },
  {
   "cell_type": "code",
   "execution_count": 20,
   "metadata": {
    "execution": {
     "iopub.execute_input": "2025-01-18T09:28:43.486719Z",
     "iopub.status.busy": "2025-01-18T09:28:43.486412Z",
     "iopub.status.idle": "2025-01-18T09:28:43.493738Z",
     "shell.execute_reply": "2025-01-18T09:28:43.492908Z",
     "shell.execute_reply.started": "2025-01-18T09:28:43.486667Z"
    },
    "trusted": true
   },
   "outputs": [],
   "source": [
    "NUM_FILTERS = 64\n",
    "cnn = Sequential([\n",
    "    Reshape((28, 28, 1)),\n",
    "    Conv2D(NUM_FILTERS, 3, 1, activation='relu'),\n",
    "    Flatten(),\n",
    "    Dense(64, activation='relu')\n",
    "])"
   ]
  },
  {
   "cell_type": "code",
   "execution_count": 24,
   "metadata": {
    "execution": {
     "iopub.execute_input": "2025-01-18T09:29:35.628258Z",
     "iopub.status.busy": "2025-01-18T09:29:35.627955Z",
     "iopub.status.idle": "2025-01-18T09:29:35.632898Z",
     "shell.execute_reply": "2025-01-18T09:29:35.632052Z",
     "shell.execute_reply.started": "2025-01-18T09:29:35.628234Z"
    },
    "trusted": true
   },
   "outputs": [],
   "source": [
    "feature_vector_A = cnn(img_A_inp)\n",
    "feature_vector_B = cnn(img_B_inp) "
   ]
  },
  {
   "cell_type": "code",
   "execution_count": 25,
   "metadata": {
    "execution": {
     "iopub.execute_input": "2025-01-18T09:29:36.696230Z",
     "iopub.status.busy": "2025-01-18T09:29:36.695957Z",
     "iopub.status.idle": "2025-01-18T09:29:36.701386Z",
     "shell.execute_reply": "2025-01-18T09:29:36.700528Z",
     "shell.execute_reply.started": "2025-01-18T09:29:36.696210Z"
    },
    "trusted": true
   },
   "outputs": [],
   "source": [
    "difference_layer = tf.keras.layers.Subtract()([feature_vector_A, feature_vector_B]) \n"
   ]
  },
  {
   "cell_type": "code",
   "execution_count": 26,
   "metadata": {
    "execution": {
     "iopub.execute_input": "2025-01-18T09:29:38.054507Z",
     "iopub.status.busy": "2025-01-18T09:29:38.054197Z",
     "iopub.status.idle": "2025-01-18T09:29:38.071770Z",
     "shell.execute_reply": "2025-01-18T09:29:38.071040Z",
     "shell.execute_reply.started": "2025-01-18T09:29:38.054481Z"
    },
    "trusted": true
   },
   "outputs": [],
   "source": [
    "dense = Dense(64, activation='relu' )(difference_layer)\n",
    "output = Dense(1, activation='sigmoid' ) (dense) "
   ]
  },
  {
   "cell_type": "code",
   "execution_count": 27,
   "metadata": {
    "execution": {
     "iopub.execute_input": "2025-01-18T09:29:39.502397Z",
     "iopub.status.busy": "2025-01-18T09:29:39.502101Z",
     "iopub.status.idle": "2025-01-18T09:29:39.521985Z",
     "shell.execute_reply": "2025-01-18T09:29:39.521168Z",
     "shell.execute_reply.started": "2025-01-18T09:29:39.502375Z"
    },
    "trusted": true
   },
   "outputs": [
    {
     "data": {
      "text/html": [
       "<pre style=\"white-space:pre;overflow-x:auto;line-height:normal;font-family:Menlo,'DejaVu Sans Mono',consolas,'Courier New',monospace\"><span style=\"font-weight: bold\">Model: \"functional_4\"</span>\n",
       "</pre>\n"
      ],
      "text/plain": [
       "\u001b[1mModel: \"functional_4\"\u001b[0m\n"
      ]
     },
     "metadata": {},
     "output_type": "display_data"
    },
    {
     "data": {
      "text/html": [
       "<pre style=\"white-space:pre;overflow-x:auto;line-height:normal;font-family:Menlo,'DejaVu Sans Mono',consolas,'Courier New',monospace\">┏━━━━━━━━━━━━━━━━━━━━━━━━━━━┳━━━━━━━━━━━━━━━━━━━━━━━━┳━━━━━━━━━━━━━━━━┳━━━━━━━━━━━━━━━━━━━━━━━━┓\n",
       "┃<span style=\"font-weight: bold\"> Layer (type)              </span>┃<span style=\"font-weight: bold\"> Output Shape           </span>┃<span style=\"font-weight: bold\">        Param # </span>┃<span style=\"font-weight: bold\"> Connected to           </span>┃\n",
       "┡━━━━━━━━━━━━━━━━━━━━━━━━━━━╇━━━━━━━━━━━━━━━━━━━━━━━━╇━━━━━━━━━━━━━━━━╇━━━━━━━━━━━━━━━━━━━━━━━━┩\n",
       "│ img_A_inp (<span style=\"color: #0087ff; text-decoration-color: #0087ff\">InputLayer</span>)    │ (<span style=\"color: #00d7ff; text-decoration-color: #00d7ff\">None</span>, <span style=\"color: #00af00; text-decoration-color: #00af00\">28</span>, <span style=\"color: #00af00; text-decoration-color: #00af00\">28</span>)         │              <span style=\"color: #00af00; text-decoration-color: #00af00\">0</span> │ -                      │\n",
       "├───────────────────────────┼────────────────────────┼────────────────┼────────────────────────┤\n",
       "│ img_B_inp (<span style=\"color: #0087ff; text-decoration-color: #0087ff\">InputLayer</span>)    │ (<span style=\"color: #00d7ff; text-decoration-color: #00d7ff\">None</span>, <span style=\"color: #00af00; text-decoration-color: #00af00\">28</span>, <span style=\"color: #00af00; text-decoration-color: #00af00\">28</span>)         │              <span style=\"color: #00af00; text-decoration-color: #00af00\">0</span> │ -                      │\n",
       "├───────────────────────────┼────────────────────────┼────────────────┼────────────────────────┤\n",
       "│ sequential_4 (<span style=\"color: #0087ff; text-decoration-color: #0087ff\">Sequential</span>) │ (<span style=\"color: #00d7ff; text-decoration-color: #00d7ff\">None</span>, <span style=\"color: #00af00; text-decoration-color: #00af00\">64</span>)             │      <span style=\"color: #00af00; text-decoration-color: #00af00\">2,769,600</span> │ img_A_inp[<span style=\"color: #00af00; text-decoration-color: #00af00\">0</span>][<span style=\"color: #00af00; text-decoration-color: #00af00\">0</span>],       │\n",
       "│                           │                        │                │ img_B_inp[<span style=\"color: #00af00; text-decoration-color: #00af00\">0</span>][<span style=\"color: #00af00; text-decoration-color: #00af00\">0</span>]        │\n",
       "├───────────────────────────┼────────────────────────┼────────────────┼────────────────────────┤\n",
       "│ subtract_5 (<span style=\"color: #0087ff; text-decoration-color: #0087ff\">Subtract</span>)     │ (<span style=\"color: #00d7ff; text-decoration-color: #00d7ff\">None</span>, <span style=\"color: #00af00; text-decoration-color: #00af00\">64</span>)             │              <span style=\"color: #00af00; text-decoration-color: #00af00\">0</span> │ sequential_4[<span style=\"color: #00af00; text-decoration-color: #00af00\">2</span>][<span style=\"color: #00af00; text-decoration-color: #00af00\">0</span>],    │\n",
       "│                           │                        │                │ sequential_4[<span style=\"color: #00af00; text-decoration-color: #00af00\">3</span>][<span style=\"color: #00af00; text-decoration-color: #00af00\">0</span>]     │\n",
       "├───────────────────────────┼────────────────────────┼────────────────┼────────────────────────┤\n",
       "│ dense_7 (<span style=\"color: #0087ff; text-decoration-color: #0087ff\">Dense</span>)           │ (<span style=\"color: #00d7ff; text-decoration-color: #00d7ff\">None</span>, <span style=\"color: #00af00; text-decoration-color: #00af00\">64</span>)             │          <span style=\"color: #00af00; text-decoration-color: #00af00\">4,160</span> │ subtract_5[<span style=\"color: #00af00; text-decoration-color: #00af00\">0</span>][<span style=\"color: #00af00; text-decoration-color: #00af00\">0</span>]       │\n",
       "├───────────────────────────┼────────────────────────┼────────────────┼────────────────────────┤\n",
       "│ dense_8 (<span style=\"color: #0087ff; text-decoration-color: #0087ff\">Dense</span>)           │ (<span style=\"color: #00d7ff; text-decoration-color: #00d7ff\">None</span>, <span style=\"color: #00af00; text-decoration-color: #00af00\">1</span>)              │             <span style=\"color: #00af00; text-decoration-color: #00af00\">65</span> │ dense_7[<span style=\"color: #00af00; text-decoration-color: #00af00\">0</span>][<span style=\"color: #00af00; text-decoration-color: #00af00\">0</span>]          │\n",
       "└───────────────────────────┴────────────────────────┴────────────────┴────────────────────────┘\n",
       "</pre>\n"
      ],
      "text/plain": [
       "┏━━━━━━━━━━━━━━━━━━━━━━━━━━━┳━━━━━━━━━━━━━━━━━━━━━━━━┳━━━━━━━━━━━━━━━━┳━━━━━━━━━━━━━━━━━━━━━━━━┓\n",
       "┃\u001b[1m \u001b[0m\u001b[1mLayer (type)             \u001b[0m\u001b[1m \u001b[0m┃\u001b[1m \u001b[0m\u001b[1mOutput Shape          \u001b[0m\u001b[1m \u001b[0m┃\u001b[1m \u001b[0m\u001b[1m       Param #\u001b[0m\u001b[1m \u001b[0m┃\u001b[1m \u001b[0m\u001b[1mConnected to          \u001b[0m\u001b[1m \u001b[0m┃\n",
       "┡━━━━━━━━━━━━━━━━━━━━━━━━━━━╇━━━━━━━━━━━━━━━━━━━━━━━━╇━━━━━━━━━━━━━━━━╇━━━━━━━━━━━━━━━━━━━━━━━━┩\n",
       "│ img_A_inp (\u001b[38;5;33mInputLayer\u001b[0m)    │ (\u001b[38;5;45mNone\u001b[0m, \u001b[38;5;34m28\u001b[0m, \u001b[38;5;34m28\u001b[0m)         │              \u001b[38;5;34m0\u001b[0m │ -                      │\n",
       "├───────────────────────────┼────────────────────────┼────────────────┼────────────────────────┤\n",
       "│ img_B_inp (\u001b[38;5;33mInputLayer\u001b[0m)    │ (\u001b[38;5;45mNone\u001b[0m, \u001b[38;5;34m28\u001b[0m, \u001b[38;5;34m28\u001b[0m)         │              \u001b[38;5;34m0\u001b[0m │ -                      │\n",
       "├───────────────────────────┼────────────────────────┼────────────────┼────────────────────────┤\n",
       "│ sequential_4 (\u001b[38;5;33mSequential\u001b[0m) │ (\u001b[38;5;45mNone\u001b[0m, \u001b[38;5;34m64\u001b[0m)             │      \u001b[38;5;34m2,769,600\u001b[0m │ img_A_inp[\u001b[38;5;34m0\u001b[0m][\u001b[38;5;34m0\u001b[0m],       │\n",
       "│                           │                        │                │ img_B_inp[\u001b[38;5;34m0\u001b[0m][\u001b[38;5;34m0\u001b[0m]        │\n",
       "├───────────────────────────┼────────────────────────┼────────────────┼────────────────────────┤\n",
       "│ subtract_5 (\u001b[38;5;33mSubtract\u001b[0m)     │ (\u001b[38;5;45mNone\u001b[0m, \u001b[38;5;34m64\u001b[0m)             │              \u001b[38;5;34m0\u001b[0m │ sequential_4[\u001b[38;5;34m2\u001b[0m][\u001b[38;5;34m0\u001b[0m],    │\n",
       "│                           │                        │                │ sequential_4[\u001b[38;5;34m3\u001b[0m][\u001b[38;5;34m0\u001b[0m]     │\n",
       "├───────────────────────────┼────────────────────────┼────────────────┼────────────────────────┤\n",
       "│ dense_7 (\u001b[38;5;33mDense\u001b[0m)           │ (\u001b[38;5;45mNone\u001b[0m, \u001b[38;5;34m64\u001b[0m)             │          \u001b[38;5;34m4,160\u001b[0m │ subtract_5[\u001b[38;5;34m0\u001b[0m][\u001b[38;5;34m0\u001b[0m]       │\n",
       "├───────────────────────────┼────────────────────────┼────────────────┼────────────────────────┤\n",
       "│ dense_8 (\u001b[38;5;33mDense\u001b[0m)           │ (\u001b[38;5;45mNone\u001b[0m, \u001b[38;5;34m1\u001b[0m)              │             \u001b[38;5;34m65\u001b[0m │ dense_7[\u001b[38;5;34m0\u001b[0m][\u001b[38;5;34m0\u001b[0m]          │\n",
       "└───────────────────────────┴────────────────────────┴────────────────┴────────────────────────┘\n"
      ]
     },
     "metadata": {},
     "output_type": "display_data"
    },
    {
     "data": {
      "text/html": [
       "<pre style=\"white-space:pre;overflow-x:auto;line-height:normal;font-family:Menlo,'DejaVu Sans Mono',consolas,'Courier New',monospace\"><span style=\"font-weight: bold\"> Total params: </span><span style=\"color: #00af00; text-decoration-color: #00af00\">2,773,825</span> (10.58 MB)\n",
       "</pre>\n"
      ],
      "text/plain": [
       "\u001b[1m Total params: \u001b[0m\u001b[38;5;34m2,773,825\u001b[0m (10.58 MB)\n"
      ]
     },
     "metadata": {},
     "output_type": "display_data"
    },
    {
     "data": {
      "text/html": [
       "<pre style=\"white-space:pre;overflow-x:auto;line-height:normal;font-family:Menlo,'DejaVu Sans Mono',consolas,'Courier New',monospace\"><span style=\"font-weight: bold\"> Trainable params: </span><span style=\"color: #00af00; text-decoration-color: #00af00\">2,773,825</span> (10.58 MB)\n",
       "</pre>\n"
      ],
      "text/plain": [
       "\u001b[1m Trainable params: \u001b[0m\u001b[38;5;34m2,773,825\u001b[0m (10.58 MB)\n"
      ]
     },
     "metadata": {},
     "output_type": "display_data"
    },
    {
     "data": {
      "text/html": [
       "<pre style=\"white-space:pre;overflow-x:auto;line-height:normal;font-family:Menlo,'DejaVu Sans Mono',consolas,'Courier New',monospace\"><span style=\"font-weight: bold\"> Non-trainable params: </span><span style=\"color: #00af00; text-decoration-color: #00af00\">0</span> (0.00 B)\n",
       "</pre>\n"
      ],
      "text/plain": [
       "\u001b[1m Non-trainable params: \u001b[0m\u001b[38;5;34m0\u001b[0m (0.00 B)\n"
      ]
     },
     "metadata": {},
     "output_type": "display_data"
    }
   ],
   "source": [
    "model = Model(inputs=[img_A_inp, img_B_inp], outputs=output)\n",
    "model. summary () \n"
   ]
  },
  {
   "cell_type": "code",
   "execution_count": 28,
   "metadata": {
    "execution": {
     "iopub.execute_input": "2025-01-18T09:30:28.151523Z",
     "iopub.status.busy": "2025-01-18T09:30:28.151243Z",
     "iopub.status.idle": "2025-01-18T09:30:28.159183Z",
     "shell.execute_reply": "2025-01-18T09:30:28.158310Z",
     "shell.execute_reply.started": "2025-01-18T09:30:28.151501Z"
    },
    "trusted": true
   },
   "outputs": [
    {
     "data": {
      "text/plain": [
       "((100, 28, 28), (100,))"
      ]
     },
     "execution_count": 28,
     "metadata": {},
     "output_type": "execute_result"
    }
   ],
   "source": [
    "import numpy as np\n",
    "random_indices = np.random.choice(X_train.shape[0], 100, replace=False)\n",
    "X_train_sample, y_train_sample = X_train[random_indices], y_train[random_indices]\n",
    "X_train_sample.shape, y_train_sample.shape "
   ]
  },
  {
   "cell_type": "code",
   "execution_count": 29,
   "metadata": {
    "execution": {
     "iopub.execute_input": "2025-01-18T09:34:23.920149Z",
     "iopub.status.busy": "2025-01-18T09:34:23.919814Z",
     "iopub.status.idle": "2025-01-18T09:34:24.113062Z",
     "shell.execute_reply": "2025-01-18T09:34:24.112276Z",
     "shell.execute_reply.started": "2025-01-18T09:34:23.920126Z"
    },
    "trusted": true
   },
   "outputs": [
    {
     "data": {
      "text/plain": [
       "(array([[[[0, 0, 0, ..., 0, 0, 0],\n",
       "          [0, 0, 0, ..., 0, 0, 0],\n",
       "          [0, 0, 0, ..., 0, 0, 0],\n",
       "          ...,\n",
       "          [0, 0, 0, ..., 0, 0, 0],\n",
       "          [0, 0, 0, ..., 0, 0, 0],\n",
       "          [0, 0, 0, ..., 0, 0, 0]],\n",
       " \n",
       "         [[0, 0, 0, ..., 0, 0, 0],\n",
       "          [0, 0, 0, ..., 0, 0, 0],\n",
       "          [0, 0, 0, ..., 0, 0, 0],\n",
       "          ...,\n",
       "          [0, 0, 0, ..., 0, 0, 0],\n",
       "          [0, 0, 0, ..., 0, 0, 0],\n",
       "          [0, 0, 0, ..., 0, 0, 0]]],\n",
       " \n",
       " \n",
       "        [[[0, 0, 0, ..., 0, 0, 0],\n",
       "          [0, 0, 0, ..., 0, 0, 0],\n",
       "          [0, 0, 0, ..., 0, 0, 0],\n",
       "          ...,\n",
       "          [0, 0, 0, ..., 0, 0, 0],\n",
       "          [0, 0, 0, ..., 0, 0, 0],\n",
       "          [0, 0, 0, ..., 0, 0, 0]],\n",
       " \n",
       "         [[0, 0, 0, ..., 0, 0, 0],\n",
       "          [0, 0, 0, ..., 0, 0, 0],\n",
       "          [0, 0, 0, ..., 0, 0, 0],\n",
       "          ...,\n",
       "          [0, 0, 0, ..., 0, 0, 0],\n",
       "          [0, 0, 0, ..., 0, 0, 0],\n",
       "          [0, 0, 0, ..., 0, 0, 0]]],\n",
       " \n",
       " \n",
       "        [[[0, 0, 0, ..., 0, 0, 0],\n",
       "          [0, 0, 0, ..., 0, 0, 0],\n",
       "          [0, 0, 0, ..., 0, 0, 0],\n",
       "          ...,\n",
       "          [0, 0, 0, ..., 0, 0, 0],\n",
       "          [0, 0, 0, ..., 0, 0, 0],\n",
       "          [0, 0, 0, ..., 0, 0, 0]],\n",
       " \n",
       "         [[0, 0, 0, ..., 0, 0, 0],\n",
       "          [0, 0, 0, ..., 0, 0, 0],\n",
       "          [0, 0, 0, ..., 0, 0, 0],\n",
       "          ...,\n",
       "          [0, 0, 0, ..., 0, 0, 0],\n",
       "          [0, 0, 0, ..., 0, 0, 0],\n",
       "          [0, 0, 0, ..., 0, 0, 0]]],\n",
       " \n",
       " \n",
       "        ...,\n",
       " \n",
       " \n",
       "        [[[0, 0, 0, ..., 0, 0, 0],\n",
       "          [0, 0, 0, ..., 0, 0, 0],\n",
       "          [0, 0, 0, ..., 0, 0, 0],\n",
       "          ...,\n",
       "          [0, 0, 0, ..., 0, 0, 0],\n",
       "          [0, 0, 0, ..., 0, 0, 0],\n",
       "          [0, 0, 0, ..., 0, 0, 0]],\n",
       " \n",
       "         [[0, 0, 0, ..., 0, 0, 0],\n",
       "          [0, 0, 0, ..., 0, 0, 0],\n",
       "          [0, 0, 0, ..., 0, 0, 0],\n",
       "          ...,\n",
       "          [0, 0, 0, ..., 0, 0, 0],\n",
       "          [0, 0, 0, ..., 0, 0, 0],\n",
       "          [0, 0, 0, ..., 0, 0, 0]]],\n",
       " \n",
       " \n",
       "        [[[0, 0, 0, ..., 0, 0, 0],\n",
       "          [0, 0, 0, ..., 0, 0, 0],\n",
       "          [0, 0, 0, ..., 0, 0, 0],\n",
       "          ...,\n",
       "          [0, 0, 0, ..., 0, 0, 0],\n",
       "          [0, 0, 0, ..., 0, 0, 0],\n",
       "          [0, 0, 0, ..., 0, 0, 0]],\n",
       " \n",
       "         [[0, 0, 0, ..., 0, 0, 0],\n",
       "          [0, 0, 0, ..., 0, 0, 0],\n",
       "          [0, 0, 0, ..., 0, 0, 0],\n",
       "          ...,\n",
       "          [0, 0, 0, ..., 0, 0, 0],\n",
       "          [0, 0, 0, ..., 0, 0, 0],\n",
       "          [0, 0, 0, ..., 0, 0, 0]]],\n",
       " \n",
       " \n",
       "        [[[0, 0, 0, ..., 0, 0, 0],\n",
       "          [0, 0, 0, ..., 0, 0, 0],\n",
       "          [0, 0, 0, ..., 0, 0, 0],\n",
       "          ...,\n",
       "          [0, 0, 0, ..., 0, 0, 0],\n",
       "          [0, 0, 0, ..., 0, 0, 0],\n",
       "          [0, 0, 0, ..., 0, 0, 0]],\n",
       " \n",
       "         [[0, 0, 0, ..., 0, 0, 0],\n",
       "          [0, 0, 0, ..., 0, 0, 0],\n",
       "          [0, 0, 0, ..., 0, 0, 0],\n",
       "          ...,\n",
       "          [0, 0, 0, ..., 0, 0, 0],\n",
       "          [0, 0, 0, ..., 0, 0, 0],\n",
       "          [0, 0, 0, ..., 0, 0, 0]]]], dtype=uint8),\n",
       " array([1, 0, 0, ..., 0, 0, 1]))"
      ]
     },
     "execution_count": 29,
     "metadata": {},
     "output_type": "execute_result"
    }
   ],
   "source": [
    "def make_paired_dataset(X, y):\n",
    "    X_pairs, y_pairs = [], []\n",
    "    \n",
    "    tuples = [(x1, y1) for x1, y1 in zip(X, y)]\n",
    "    \n",
    "    tuples = tuples[:50]\n",
    "    \n",
    "    for i in range(len(tuples)):\n",
    "        for j in range(len(tuples)):\n",
    "            img_A, label_A = tuples[i]\n",
    "            img_B, label_B = tuples[j]\n",
    "            \n",
    "            new_label = int(label_A == label_B)\n",
    "            \n",
    "            X_pairs.append([img_A, img_B])\n",
    "            y_pairs.append(new_label)\n",
    "    \n",
    "    X_pairs = np.array(X_pairs)\n",
    "    y_pairs = np.array(y_pairs)\n",
    "    \n",
    "    return X_pairs, y_pairs\n",
    "\n",
    "make_paired_dataset(X_train_sample, y_train_sample)"
   ]
  },
  {
   "cell_type": "code",
   "execution_count": 30,
   "metadata": {
    "execution": {
     "iopub.execute_input": "2025-01-18T09:34:47.932089Z",
     "iopub.status.busy": "2025-01-18T09:34:47.931770Z",
     "iopub.status.idle": "2025-01-18T09:34:47.946393Z",
     "shell.execute_reply": "2025-01-18T09:34:47.945726Z",
     "shell.execute_reply.started": "2025-01-18T09:34:47.932064Z"
    },
    "trusted": true
   },
   "outputs": [
    {
     "data": {
      "text/plain": [
       "((2500, 2, 28, 28), (2500,))"
      ]
     },
     "execution_count": 30,
     "metadata": {},
     "output_type": "execute_result"
    }
   ],
   "source": [
    "X_train_pairs, y_train_pairs = make_paired_dataset(X_train_sample, y_train_sample)\n",
    "X_train_pairs.shape, y_train_pairs.shape "
   ]
  },
  {
   "cell_type": "code",
   "execution_count": 33,
   "metadata": {
    "execution": {
     "iopub.execute_input": "2025-01-18T09:36:25.729546Z",
     "iopub.status.busy": "2025-01-18T09:36:25.729259Z",
     "iopub.status.idle": "2025-01-18T09:36:25.735483Z",
     "shell.execute_reply": "2025-01-18T09:36:25.734780Z",
     "shell.execute_reply.started": "2025-01-18T09:36:25.729523Z"
    },
    "trusted": true
   },
   "outputs": [
    {
     "data": {
      "text/plain": [
       "((15, 28, 28), (15,))"
      ]
     },
     "execution_count": 33,
     "metadata": {},
     "output_type": "execute_result"
    }
   ],
   "source": [
    "random_indices = np.random.choice(X_test.shape[0], 15, replace=False)\n",
    "X_test_sample, y_test_sample = X_test[random_indices], y_test[random_indices]\n",
    "X_test_sample.shape, y_test_sample.shape "
   ]
  },
  {
   "cell_type": "code",
   "execution_count": 35,
   "metadata": {
    "execution": {
     "iopub.execute_input": "2025-01-18T09:38:08.873433Z",
     "iopub.status.busy": "2025-01-18T09:38:08.873131Z",
     "iopub.status.idle": "2025-01-18T09:38:08.879714Z",
     "shell.execute_reply": "2025-01-18T09:38:08.878974Z",
     "shell.execute_reply.started": "2025-01-18T09:38:08.873411Z"
    },
    "trusted": true
   },
   "outputs": [
    {
     "data": {
      "text/plain": [
       "((225, 2, 28, 28), (225,))"
      ]
     },
     "execution_count": 35,
     "metadata": {},
     "output_type": "execute_result"
    }
   ],
   "source": [
    "X_test_pairs, y_test_pairs = make_paired_dataset(X_test_sample, y_test_sample)\n",
    "X_test_pairs.shape, y_test_pairs.shape\n"
   ]
  },
  {
   "cell_type": "code",
   "execution_count": 37,
   "metadata": {
    "execution": {
     "iopub.execute_input": "2025-01-18T09:42:33.403952Z",
     "iopub.status.busy": "2025-01-18T09:42:33.403549Z",
     "iopub.status.idle": "2025-01-18T09:42:33.408226Z",
     "shell.execute_reply": "2025-01-18T09:42:33.407478Z",
     "shell.execute_reply.started": "2025-01-18T09:42:33.403924Z"
    },
    "trusted": true
   },
   "outputs": [],
   "source": [
    "def contrastive_loss(y_true, y_pred, margin=1.0):\n",
    " \n",
    "    positive_loss = y_true * tf.square(y_pred)\n",
    "    \n",
    "    negative_loss = (1 - y_true) * tf.square(tf.maximum(margin - y_pred, 0))\n",
    "    \n",
    "    total_loss = positive_loss + negative_loss\n",
    "    \n",
    "    return tf.reduce_mean(total_loss)\n"
   ]
  },
  {
   "cell_type": "code",
   "execution_count": 40,
   "metadata": {
    "execution": {
     "iopub.execute_input": "2025-01-18T09:44:43.321233Z",
     "iopub.status.busy": "2025-01-18T09:44:43.320950Z",
     "iopub.status.idle": "2025-01-18T09:44:43.329167Z",
     "shell.execute_reply": "2025-01-18T09:44:43.328337Z",
     "shell.execute_reply.started": "2025-01-18T09:44:43.321212Z"
    },
    "trusted": true
   },
   "outputs": [],
   "source": [
    "model.compile(loss=contrastive_loss, \n",
    "optimizer=tf.keras.optimizers.Adam(learning_rate=0.0001) , \n",
    "metrics=['accuracy']) "
   ]
  },
  {
   "cell_type": "code",
   "execution_count": 41,
   "metadata": {
    "execution": {
     "iopub.execute_input": "2025-01-18T09:55:54.273910Z",
     "iopub.status.busy": "2025-01-18T09:55:54.273554Z",
     "iopub.status.idle": "2025-01-18T09:56:02.443331Z",
     "shell.execute_reply": "2025-01-18T09:56:02.442460Z",
     "shell.execute_reply.started": "2025-01-18T09:55:54.273884Z"
    },
    "trusted": true
   },
   "outputs": [
    {
     "name": "stdout",
     "output_type": "stream",
     "text": [
      "Epoch 1/8\n",
      "\u001b[1m90/90\u001b[0m \u001b[32m━━━━━━━━━━━━━━━━━━━━\u001b[0m\u001b[37m\u001b[0m \u001b[1m6s\u001b[0m 27ms/step - accuracy: 0.2879 - loss: 0.2586 - val_accuracy: 0.1600 - val_loss: 0.1059\n",
      "Epoch 2/8\n",
      "\u001b[1m90/90\u001b[0m \u001b[32m━━━━━━━━━━━━━━━━━━━━\u001b[0m\u001b[37m\u001b[0m \u001b[1m0s\u001b[0m 3ms/step - accuracy: 0.0931 - loss: 0.0891 - val_accuracy: 0.0889 - val_loss: 0.1001\n",
      "Epoch 3/8\n",
      "\u001b[1m90/90\u001b[0m \u001b[32m━━━━━━━━━━━━━━━━━━━━\u001b[0m\u001b[37m\u001b[0m \u001b[1m0s\u001b[0m 3ms/step - accuracy: 0.0985 - loss: 0.1014 - val_accuracy: 0.0844 - val_loss: 0.0983\n",
      "Epoch 4/8\n",
      "\u001b[1m90/90\u001b[0m \u001b[32m━━━━━━━━━━━━━━━━━━━━\u001b[0m\u001b[37m\u001b[0m \u001b[1m0s\u001b[0m 3ms/step - accuracy: 0.0788 - loss: 0.0831 - val_accuracy: 0.0800 - val_loss: 0.0915\n",
      "Epoch 5/8\n",
      "\u001b[1m90/90\u001b[0m \u001b[32m━━━━━━━━━━━━━━━━━━━━\u001b[0m\u001b[37m\u001b[0m \u001b[1m0s\u001b[0m 3ms/step - accuracy: 0.0960 - loss: 0.0981 - val_accuracy: 0.0800 - val_loss: 0.0943\n",
      "Epoch 6/8\n",
      "\u001b[1m90/90\u001b[0m \u001b[32m━━━━━━━━━━━━━━━━━━━━\u001b[0m\u001b[37m\u001b[0m \u001b[1m0s\u001b[0m 3ms/step - accuracy: 0.0705 - loss: 0.0760 - val_accuracy: 0.0933 - val_loss: 0.1054\n",
      "Epoch 7/8\n",
      "\u001b[1m90/90\u001b[0m \u001b[32m━━━━━━━━━━━━━━━━━━━━\u001b[0m\u001b[37m\u001b[0m \u001b[1m0s\u001b[0m 3ms/step - accuracy: 0.0743 - loss: 0.0793 - val_accuracy: 0.0844 - val_loss: 0.1001\n",
      "Epoch 8/8\n",
      "\u001b[1m90/90\u001b[0m \u001b[32m━━━━━━━━━━━━━━━━━━━━\u001b[0m\u001b[37m\u001b[0m \u001b[1m0s\u001b[0m 3ms/step - accuracy: 0.0721 - loss: 0.0758 - val_accuracy: 0.0889 - val_loss: 0.1047\n"
     ]
    },
    {
     "data": {
      "text/plain": [
       "<keras.src.callbacks.history.History at 0x7d44bf18a980>"
      ]
     },
     "execution_count": 41,
     "metadata": {},
     "output_type": "execute_result"
    }
   ],
   "source": [
    "from tensorflow.keras.callbacks import EarlyStopping\n",
    "\n",
    "earlystop = EarlyStopping(patience=4)\n",
    "\n",
    "model.fit(\n",
    "    x=[X_train_pairs[:, 0, :, :], X_train_pairs[:, 1, :, :]], \n",
    "    y=y_train_pairs, \n",
    "    validation_data=(\n",
    "        [X_test_pairs[:, 0, :, :], X_test_pairs[:, 1, :, :]], \n",
    "        y_test_pairs\n",
    "    ),\n",
    "    epochs=8,\n",
    "    batch_size=28,\n",
    "    callbacks=[earlystop]  \n",
    ")\n"
   ]
  },
  {
   "cell_type": "code",
   "execution_count": 54,
   "metadata": {
    "execution": {
     "iopub.execute_input": "2025-01-18T10:10:26.183253Z",
     "iopub.status.busy": "2025-01-18T10:10:26.182935Z",
     "iopub.status.idle": "2025-01-18T10:10:26.188481Z",
     "shell.execute_reply": "2025-01-18T10:10:26.187762Z",
     "shell.execute_reply.started": "2025-01-18T10:10:26.183224Z"
    },
    "trusted": true
   },
   "outputs": [
    {
     "data": {
      "text/plain": [
       "(7, 3)"
      ]
     },
     "execution_count": 54,
     "metadata": {},
     "output_type": "execute_result"
    }
   ],
   "source": [
    "img_A,img_B = X_test[0], X_test[18] \n",
    "label_A, label_B=y_test[0], y_test[18] \n",
    "label_A,label_B"
   ]
  },
  {
   "cell_type": "code",
   "execution_count": 46,
   "metadata": {
    "execution": {
     "iopub.execute_input": "2025-01-18T10:00:02.631090Z",
     "iopub.status.busy": "2025-01-18T10:00:02.630809Z",
     "iopub.status.idle": "2025-01-18T10:00:02.762591Z",
     "shell.execute_reply": "2025-01-18T10:00:02.761770Z",
     "shell.execute_reply.started": "2025-01-18T10:00:02.631069Z"
    },
    "trusted": true
   },
   "outputs": [
    {
     "data": {
      "text/plain": [
       "<matplotlib.image.AxesImage at 0x7d446335add0>"
      ]
     },
     "execution_count": 46,
     "metadata": {},
     "output_type": "execute_result"
    },
    {
     "data": {
      "image/png": "[encoded data removed]",
      "text/plain": [
       "<Figure size 217.6x163.2 with 1 Axes>"
      ]
     },
     "metadata": {},
     "output_type": "display_data"
    }
   ],
   "source": [
    "import matplotlib.pyplot as plt \n",
    "plt.figure(dpi=34) \n",
    "plt.imshow(img_A) "
   ]
  },
  {
   "cell_type": "code",
   "execution_count": 49,
   "metadata": {
    "execution": {
     "iopub.execute_input": "2025-01-18T10:02:46.844820Z",
     "iopub.status.busy": "2025-01-18T10:02:46.844505Z",
     "iopub.status.idle": "2025-01-18T10:02:46.992195Z",
     "shell.execute_reply": "2025-01-18T10:02:46.991218Z",
     "shell.execute_reply.started": "2025-01-18T10:02:46.844794Z"
    },
    "trusted": true
   },
   "outputs": [
    {
     "data": {
      "text/plain": [
       "<matplotlib.image.AxesImage at 0x7d4463325b40>"
      ]
     },
     "execution_count": 49,
     "metadata": {},
     "output_type": "execute_result"
    },
    {
     "data": {
      "image/png": "[encoded data removed]",
      "text/plain": [
       "<Figure size 217.6x163.2 with 1 Axes>"
      ]
     },
     "metadata": {},
     "output_type": "display_data"
    }
   ],
   "source": [
    "plt.figure(dpi=34) \n",
    "plt.imshow(img_B) \n"
   ]
  },
  {
   "cell_type": "code",
   "execution_count": 50,
   "metadata": {
    "execution": {
     "iopub.execute_input": "2025-01-18T10:02:48.912381Z",
     "iopub.status.busy": "2025-01-18T10:02:48.912049Z",
     "iopub.status.idle": "2025-01-18T10:02:48.978731Z",
     "shell.execute_reply": "2025-01-18T10:02:48.978009Z",
     "shell.execute_reply.started": "2025-01-18T10:02:48.912340Z"
    },
    "trusted": true
   },
   "outputs": [
    {
     "name": "stdout",
     "output_type": "stream",
     "text": [
      "\u001b[1m1/1\u001b[0m \u001b[32m━━━━━━━━━━━━━━━━━━━━\u001b[0m\u001b[37m\u001b[0m \u001b[1m0s\u001b[0m 18ms/step\n"
     ]
    },
    {
     "data": {
      "text/plain": [
       "True"
      ]
     },
     "execution_count": 50,
     "metadata": {},
     "output_type": "execute_result"
    }
   ],
   "source": [
    "model.predict([img_A.reshape((1, 28, 28)), \n",
    "               img_B.reshape((1, 28, 28))]).flatten()[0] > 0.5 "
   ]
  }
 ],
 "metadata": {
  "kaggle": {
   "accelerator": "nvidiaTeslaT4",
   "dataSources": [],
   "dockerImageVersionId": 30840,
   "isGpuEnabled": true,
   "isInternetEnabled": true,
   "language": "python",
   "sourceType": "notebook"
  },
  "kernelspec": {
   "display_name": "Python 3",
   "language": "python",
   "name": "python3"
  },
  "language_info": {
   "codemirror_mode": {
    "name": "ipython",
    "version": 3
   },
   "file_extension": ".py",
   "mimetype": "text/x-python",
   "name": "python",
   "nbconvert_exporter": "python",
   "pygments_lexer": "ipython3",
   "version": "3.10.12"
  }
 },
 "nbformat": 4,
 "nbformat_minor": 4
}
